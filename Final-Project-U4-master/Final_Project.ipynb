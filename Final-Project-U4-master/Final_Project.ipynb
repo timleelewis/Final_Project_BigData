{
  "nbformat": 4,
  "nbformat_minor": 0,
  "metadata": {
    "kernelspec": {
      "display_name": "Python 3",
      "language": "python",
      "name": "python3"
    },
    "language_info": {
      "codemirror_mode": {
        "name": "ipython",
        "version": 3
      },
      "file_extension": ".py",
      "mimetype": "text/x-python",
      "name": "python",
      "nbconvert_exporter": "python",
      "pygments_lexer": "ipython3",
      "version": "3.7.5"
    },
    "colab": {
      "name": "Final_Project(2).ipynb",
      "provenance": []
    }
  },
  "cells": [
    {
      "cell_type": "code",
      "metadata": {
        "id": "5RFv4ooXwDGR",
        "colab_type": "code",
        "outputId": "cd728b14-5a0b-4499-aa94-414fc4457101",
        "colab": {
          "base_uri": "https://localhost:8080/",
          "height": 368
        }
      },
      "source": [
        "import matplotlib.pyplot as plt\n",
        "import pandas as pd\n",
        "import numpy as np\n",
        "import pyproj as pp\n",
        "import seaborn as sns\n",
        "import scipy as sp\n",
        "import datetime\n",
        "from datetime import datetime, timedelta\n",
        "from sklearn.ensemble import RandomForestRegressor\n",
        "from sklearn.model_selection import train_test_split\n",
        "from sklearn.metrics import mean_squared_error, mean_absolute_error\n",
        "from sklearn.neural_network import MLPRegressor\n",
        "from sklearn.model_selection import GridSearchCV\n",
        "%matplotlib inline"
      ],
      "execution_count": 0,
      "outputs": [
        {
          "output_type": "error",
          "ename": "ModuleNotFoundError",
          "evalue": "ignored",
          "traceback": [
            "\u001b[0;31m---------------------------------------------------------------------------\u001b[0m",
            "\u001b[0;31mModuleNotFoundError\u001b[0m                       Traceback (most recent call last)",
            "\u001b[0;32m<ipython-input-1-8c64385d4d98>\u001b[0m in \u001b[0;36m<module>\u001b[0;34m()\u001b[0m\n\u001b[1;32m      2\u001b[0m \u001b[0;32mimport\u001b[0m \u001b[0mpandas\u001b[0m \u001b[0;32mas\u001b[0m \u001b[0mpd\u001b[0m\u001b[0;34m\u001b[0m\u001b[0;34m\u001b[0m\u001b[0m\n\u001b[1;32m      3\u001b[0m \u001b[0;32mimport\u001b[0m \u001b[0mnumpy\u001b[0m \u001b[0;32mas\u001b[0m \u001b[0mnp\u001b[0m\u001b[0;34m\u001b[0m\u001b[0;34m\u001b[0m\u001b[0m\n\u001b[0;32m----> 4\u001b[0;31m \u001b[0;32mimport\u001b[0m \u001b[0mpyproj\u001b[0m \u001b[0;32mas\u001b[0m \u001b[0mpp\u001b[0m\u001b[0;34m\u001b[0m\u001b[0;34m\u001b[0m\u001b[0m\n\u001b[0m\u001b[1;32m      5\u001b[0m \u001b[0;32mimport\u001b[0m \u001b[0mseaborn\u001b[0m \u001b[0;32mas\u001b[0m \u001b[0msns\u001b[0m\u001b[0;34m\u001b[0m\u001b[0;34m\u001b[0m\u001b[0m\n\u001b[1;32m      6\u001b[0m \u001b[0;32mimport\u001b[0m \u001b[0mscipy\u001b[0m \u001b[0;32mas\u001b[0m \u001b[0msp\u001b[0m\u001b[0;34m\u001b[0m\u001b[0;34m\u001b[0m\u001b[0m\n",
            "\u001b[0;31mModuleNotFoundError\u001b[0m: No module named 'pyproj'",
            "",
            "\u001b[0;31m---------------------------------------------------------------------------\u001b[0;32m\nNOTE: If your import is failing due to a missing package, you can\nmanually install dependencies using either !pip or !apt.\n\nTo view examples of installing some common dependencies, click the\n\"Open Examples\" button below.\n\u001b[0;31m---------------------------------------------------------------------------\u001b[0m\n"
          ]
        }
      ]
    },
    {
      "cell_type": "markdown",
      "metadata": {
        "id": "D6z4tc6JwDGa",
        "colab_type": "text"
      },
      "source": [
        "## Cleaning the Dataset"
      ]
    },
    {
      "cell_type": "code",
      "metadata": {
        "id": "gZKujPy0wDGe",
        "colab_type": "code",
        "colab": {}
      },
      "source": [
        "clean = pd.read_csv('nycrime.csv')\n",
        "\n",
        "# Cleaning year to set up for datetime format\n",
        "clean['CMPLNT_FR_DT'] = clean['CMPLNT_FR_DT'].str.slice_replace(start = -4, stop = -3, repl = \"2\")\n",
        "clean['CMPLNT_TO_DT'] = clean['CMPLNT_TO_DT'].str.slice_replace(start = -4, stop = -3, repl = \"2\")\n",
        "\n",
        "clean['CMPLNT_FR_DT'] = clean['CMPLNT_FR_DT'].str.slice_replace(start = -3, stop = -2, repl = \"0\")\n",
        "clean['CMPLNT_TO_DT'] = clean['CMPLNT_TO_DT'].str.slice_replace(start = -3, stop = -2, repl = \"0\")\n",
        "\n",
        "if (clean['CMPLNT_FR_DT'].str.slice(-2, -1).all() != \"1\"):\n",
        "    clean['CMPLNT_FR_DT'] = clean['CMPLNT_FR_DT'].str.slice_replace(start = -2, stop = -1, repl = \"0\")\n",
        "if (clean['CMPLNT_TO_DT'].str.slice(-2, -1).all() != \"1\"):\n",
        "    clean['CMPLNT_TO_DT'] = clean['CMPLNT_TO_DT'].str.slice_replace(start = -2, stop = -1, repl = \"0\")"
      ],
      "execution_count": 0,
      "outputs": []
    },
    {
      "cell_type": "code",
      "metadata": {
        "id": "ecVZOJLVwDGk",
        "colab_type": "code",
        "colab": {}
      },
      "source": [
        "# Convert to datetime format and combine time and date\n",
        "clean['CMPLNT_FR_DTM'] = pd.to_datetime(clean['CMPLNT_FR_DT'] + \" \" + clean['CMPLNT_FR_TM'], infer_datetime_format = True, errors = 'coerce')\n",
        "clean['CMPLNT_TO_DTM'] = pd.to_datetime(clean['CMPLNT_TO_DT'] + \" \" + clean['CMPLNT_TO_TM'], infer_datetime_format = True, errors = 'coerce')\n",
        "\n",
        "bad_columns = [\"RPT_DT\", \"CMPLNT_FR_DT\", \"CMPLNT_FR_TM\", \"CMPLNT_TO_DT\", \"CMPLNT_TO_TM\", \"PD_CD\", \"PD_DESC\", \"LAW_CAT_CD\", \"LOC_OF_OCCUR_DESC\", \"JURIS_DESC\", \"JURISDICTION_CODE\", \"PARKS_NM\", \"HADEVELOPT\", \"HOUSING_PSA\", \"X_COORD_CD\", \"Y_COORD_CD\", \"SUSP_RACE\", \"TRANSIT_DISTRICT\", \"SUSP_SEX\", \"Lat_Lon\", \"PATROL_BORO\", \"STATION_NAME\", \"VIC_AGE_GROUP\", \"VIC_RACE\", \"VIC_SEX\"]\n",
        "clean = clean.drop(columns = bad_columns)\n",
        "\n",
        "clean.to_csv('clean_nycrime.csv', index = False)"
      ],
      "execution_count": 0,
      "outputs": []
    },
    {
      "cell_type": "markdown",
      "metadata": {
        "id": "vXHVb714wDGq",
        "colab_type": "text"
      },
      "source": [
        "## Question A\n",
        "### What is the age group that committed the most burglaries?"
      ]
    },
    {
      "cell_type": "code",
      "metadata": {
        "id": "39RlEgBNwDGs",
        "colab_type": "code",
        "colab": {}
      },
      "source": [
        "# Import cleaned dataset\n",
        "dataA = pd.read_csv('clean_nycrime.csv')\n",
        "# Inspect data\n",
        "dataA.head()"
      ],
      "execution_count": 0,
      "outputs": []
    },
    {
      "cell_type": "code",
      "metadata": {
        "id": "ldK_O25-wDGw",
        "colab_type": "code",
        "colab": {}
      },
      "source": [
        "# Inspect values of suspect age group\n",
        "dataA['SUSP_AGE_GROUP'].unique()"
      ],
      "execution_count": 0,
      "outputs": []
    },
    {
      "cell_type": "code",
      "metadata": {
        "id": "5WDnPddrwDG3",
        "colab_type": "code",
        "colab": {}
      },
      "source": [
        "# Gather unwanted ages into a list\n",
        "badAges = ['UNKNOWN', '937', '-979', '-975', '946', '972', '-948', '-978', '926', '-972',\n",
        "             '-976', '-969', '-962', '-935', '-1', '-963', '-974', '945', '933', '931',\n",
        "             '-973', '-970', '936', '-971', '2015', '-65', '999', '-49', '1014', '935',\n",
        "             '966', '-2', '2016', '-965', '1932', '-54', '923', '-67', '327', '-83',\n",
        "             '1016', '-955', '2017', '-981', '1017', '949', '-953', '944', '-42', '-968',\n",
        "             '-960', '1933', '927', '942', '940', '-72', '934', '1053', '-941', '2018',\n",
        "             '1018', '-80', '955', '948', '924', '-939', '922', '1012', '-63', '928',\n",
        "             '952', '920', '938', '954', '1967', '810', '915', '711', '914', '324',\n",
        "             '925', '808', '809', '309', '814', '-985', '-980', '1007', '708', '709']\n",
        "# Replace unwanted ages will null value\n",
        "dataA['SUSP_AGE_GROUP'] = dataA['SUSP_AGE_GROUP'].replace(badAges, np.nan)\n",
        "# Drop rows with a null value in suspect age column\n",
        "dataA.dropna(subset = ['SUSP_AGE_GROUP'], axis = 0, inplace = True)\n",
        "# Inspect final values of suspect age group\n",
        "dataA['SUSP_AGE_GROUP'].unique()"
      ],
      "execution_count": 0,
      "outputs": []
    },
    {
      "cell_type": "code",
      "metadata": {
        "id": "ROIsijOIwDG7",
        "colab_type": "code",
        "colab": {}
      },
      "source": [
        "# Inpect shape of all burglaries\n",
        "dataA[dataA['OFNS_DESC'] == \"BURGLARY\"].shape"
      ],
      "execution_count": 0,
      "outputs": []
    },
    {
      "cell_type": "code",
      "metadata": {
        "id": "15T5llpRwDHA",
        "colab_type": "code",
        "colab": {}
      },
      "source": [
        "# Create list of all columns exept offense description and suspect age\n",
        "col = [\"CMPLNT_NUM\", \"ADDR_PCT_CD\", \"KY_CD\", \"CRM_ATPT_CPTD_CD\", \"BORO_NM\",\n",
        "       \"PREM_TYP_DESC\", \"Latitude\", \"Longitude\", \"CMPLNT_FR_DTM\", \"CMPLNT_TO_DTM\"]\n",
        "# Drop columns\n",
        "dataA.drop(columns = col, inplace = True)"
      ],
      "execution_count": 0,
      "outputs": []
    },
    {
      "cell_type": "code",
      "metadata": {
        "id": "uYBfXlQDwDHF",
        "colab_type": "code",
        "colab": {}
      },
      "source": [
        "# Filter offense description to contain burglaries only\n",
        "burglary = dataA['OFNS_DESC'] == \"BURGLARY\"\n",
        "burgAge = dataA.where(burglary).dropna()\n",
        "# Get count of each value in suspect age group\n",
        "pd.value_counts(burgAge['SUSP_AGE_GROUP'].values.flatten()).head()"
      ],
      "execution_count": 0,
      "outputs": []
    },
    {
      "cell_type": "markdown",
      "metadata": {
        "id": "iXlPSaPJwDHJ",
        "colab_type": "text"
      },
      "source": [
        "## Question B\n",
        "### Is there any correlation to the time of the offense and the type of offense that was committed?"
      ]
    },
    {
      "cell_type": "code",
      "metadata": {
        "id": "xDib6KSswDHK",
        "colab_type": "code",
        "colab": {}
      },
      "source": [
        "dataB = pd.read_csv('clean_nycrime.csv')\n",
        "\n",
        "#remove all rows where FROM time is missing\n",
        "dataB = dataB[dataB['CMPLNT_FR_DTM'].notnull()]\n",
        "\n",
        "#remove all rows where window of time of offense is greater than three hours\n",
        "dataB.loc[:, 'three_hours_after_start'] = dataB.loc[:, 'CMPLNT_FR_DTM'].apply(lambda t: (datetime.strptime(t, \"%Y-%m-%d %H:%M:%S\") + timedelta(hours=3)).strftime(\"%Y-%m-%d %H:%M:%S\"))\n",
        "dataB = dataB[(dataB['CMPLNT_TO_DTM'].isnull()) | (dataB['CMPLNT_TO_DTM'] < dataB['three_hours_after_start'])]\n",
        "\n",
        "#create new time column from FROM time, represented as HH.MM so that matplotlib can interpret it\n",
        "dataB['time'] = dataB['CMPLNT_FR_DTM'].apply(lambda t: (datetime.strptime(t, \"%Y-%m-%d %H:%M:%S\")).hour + .01*(datetime.strptime(t, \"%Y-%m-%d %H:%M:%S\")).minute)\n",
        "\n",
        "#combine similar offense descriptions\n",
        "dataB['OFNS_DESC'] = dataB['OFNS_DESC'].apply(lambda x: 'ADMINISTRATIVE CODE' if (x == 'ADMINISTRATIVE CODES') else x)\n",
        "dataB['OFNS_DESC'] = dataB['OFNS_DESC'].apply(lambda x: 'INTOXICATED/IMPAIRED DRIVING' if (x == 'INTOXICATED & IMPAIRED DRIVING') else x)\n",
        "dataB['OFNS_DESC'] = dataB['OFNS_DESC'].apply(lambda x: 'KIDNAPPING AND RELATED OFFENSES' if (x == 'KIDNAPPING & RELATED OFFENSES') else x)\n",
        "dataB['OFNS_DESC'] = dataB['OFNS_DESC'].apply(lambda x: 'KIDNAPPING AND RELATED OFFENSES' if (x == 'KIDNAPPING') else x)\n",
        "dataB['OFNS_DESC'] = dataB['OFNS_DESC'].apply(lambda x: 'VEHICLE AND TRAFFIC LAWS' if (x == 'OTHER TRAFFIC INFRACTION') else x)\n",
        "#remove \"misc\" categories that aren't very meaningful\n",
        "dataB = dataB[dataB['OFNS_DESC'] != 'NYS LAWS-UNCLASSIFIED FELONY']\n",
        "dataB = dataB[dataB['OFNS_DESC'] != 'NYS LAWS-UNCLASSIFIED VIOLATION']\n",
        "dataB = dataB[dataB['OFNS_DESC'] != 'OTHER STATE LAWS']\n",
        "dataB = dataB[dataB['OFNS_DESC'] != 'OTHER STATE LAWS (NON PENAL LA']\n",
        "dataB = dataB[dataB['OFNS_DESC'] != 'OTHER STATE LAWS (NON PENAL LAW)']\n",
        "\n",
        "#create and display a list of remaining categories of offenses\n",
        "categories = dataB['OFNS_DESC'].drop_duplicates().dropna().values.tolist()\n",
        "categories.sort()\n",
        "for x in categories:\n",
        "    print(x)"
      ],
      "execution_count": 0,
      "outputs": []
    },
    {
      "cell_type": "code",
      "metadata": {
        "id": "IS3dfEQRwDHP",
        "colab_type": "code",
        "colab": {}
      },
      "source": [
        "def plotB(category): #this plots a single histogram for a given category\n",
        "    x = dataB[dataB['OFNS_DESC'] == category]\n",
        "    times = x[['time']]\n",
        "    plt.figure()\n",
        "    plt.hist(times.values, bins = range(0, 25))\n",
        "    #set xticks to hours\n",
        "    plt.xticks(range(0, 25))\n",
        "    plt.title(category)\n",
        "\n",
        "for category in categories: #plot for all categories\n",
        "    plotB(category)"
      ],
      "execution_count": 0,
      "outputs": []
    },
    {
      "cell_type": "markdown",
      "metadata": {
        "id": "KrdK6yzvwDHU",
        "colab_type": "text"
      },
      "source": [
        "## Question C\n",
        "### Is there any noted correlation to the type of offense and the location of the offense?"
      ]
    },
    {
      "cell_type": "code",
      "metadata": {
        "id": "M_GuPHGcwDHV",
        "colab_type": "code",
        "colab": {}
      },
      "source": [
        "dataC = pd.read_csv('clean_nycrime.csv')\n",
        "irrCol = [\"CMPLNT_NUM\", \"KY_CD\", \"CRM_ATPT_CPTD_CD\", \"PREM_TYP_DESC\", \"SUSP_AGE_GROUP\", \"CMPLNT_FR_DTM\", \"CMPLNT_TO_DTM\"]\n",
        "dataC.drop(columns = irrCol, inplace = True)\n",
        "dataC.dropna(subset = ['Latitude'], axis = 0, inplace = True)\n",
        "dataC.dropna(subset = ['Longitude'], axis = 0, inplace = True)\n",
        "dataC.dropna(subset = ['OFNS_DESC'], axis = 0, inplace = True)"
      ],
      "execution_count": 0,
      "outputs": []
    },
    {
      "cell_type": "code",
      "metadata": {
        "id": "TBvHYgdJwDHY",
        "colab_type": "code",
        "colab": {}
      },
      "source": [
        "ny_st = pp.Proj(init = \"EPSG:2263\", preserve_units = True)\n",
        "xx = dataC['Longitude']\n",
        "yy = dataC['Latitude']\n",
        "xx = np.asarray(xx)\n",
        "yy = np.asarray(yy)"
      ],
      "execution_count": 0,
      "outputs": []
    },
    {
      "cell_type": "code",
      "metadata": {
        "id": "6iyVz6f-wDHc",
        "colab_type": "code",
        "colab": {}
      },
      "source": [
        "conv = ny_st(xx, yy)\n",
        "lon = conv[0]\n",
        "lat = conv[1]\n",
        "dataC['SPAT_LON'] = pd.Series(lon)\n",
        "dataC['SPAT_LAT'] = pd.Series(lat)"
      ],
      "execution_count": 0,
      "outputs": []
    },
    {
      "cell_type": "code",
      "metadata": {
        "id": "FIEEKoglwDHg",
        "colab_type": "code",
        "colab": {}
      },
      "source": [
        "dataC.sort_values(['OFNS_DESC'], ascending = True, inplace = True)\n",
        "dataC.dropna(subset = ['SPAT_LON'], axis = 0, inplace = True)\n",
        "dataC.dropna(subset = ['SPAT_LAT'], axis = 0, inplace = True)"
      ],
      "execution_count": 0,
      "outputs": []
    },
    {
      "cell_type": "code",
      "metadata": {
        "id": "BQFEdSeEwDHj",
        "colab_type": "code",
        "colab": {}
      },
      "source": [
        "dataC['SPAT_LON'].isnull().sum().sum()\n",
        "lonLat = [\"Latitude\", \"Longitude\"]\n",
        "dataC.drop(columns = lonLat, inplace = True)"
      ],
      "execution_count": 0,
      "outputs": []
    },
    {
      "cell_type": "code",
      "metadata": {
        "id": "Df4J8QNDwDHn",
        "colab_type": "code",
        "colab": {}
      },
      "source": [
        "# RUN R CODE FIRST TO GET THIS FILE!!!\n",
        "shape = pd.read_csv(\"boro_shape.csv\")"
      ],
      "execution_count": 0,
      "outputs": []
    },
    {
      "cell_type": "code",
      "metadata": {
        "id": "oi4xnpAFwDHr",
        "colab_type": "code",
        "colab": {}
      },
      "source": [
        "lon_max = shape['long'].max()\n",
        "lon_min = shape['long'].min()\n",
        "lat_max = shape['lat'].max()\n",
        "lat_min = shape['lat'].min()\n",
        "\n",
        "lessLon = dataC['SPAT_LON'] > lon_min\n",
        "greaterLon = dataC['SPAT_LON'] < lon_max\n",
        "lessLat = dataC['SPAT_LAT'] > lat_min\n",
        "greaterLat = dataC['SPAT_LAT'] < lat_max\n",
        "new_dataC = dataC.where(lessLon & greaterLon & lessLat & greaterLat).dropna()"
      ],
      "execution_count": 0,
      "outputs": []
    },
    {
      "cell_type": "code",
      "metadata": {
        "id": "fc9y3FRSwDHu",
        "colab_type": "code",
        "colab": {}
      },
      "source": [
        "freq_crimes = new_data['OFNS_DESC'].value_counts()[:10].index.tolist()\n",
        "print(freq_crimes)"
      ],
      "execution_count": 0,
      "outputs": []
    },
    {
      "cell_type": "code",
      "metadata": {
        "id": "ubtwU-OTwDHw",
        "colab_type": "code",
        "colab": {}
      },
      "source": [
        "pl = new_dataC['OFNS_DESC'] == freq_crimes[0]\n",
        "h2 = new_dataC['OFNS_DESC'] == freq_crimes[1]\n",
        "a3 = new_dataC['OFNS_DESC'] == freq_crimes[2]\n",
        "cm = new_dataC['OFNS_DESC'] == freq_crimes[3]\n",
        "gl = new_dataC['OFNS_DESC'] == freq_crimes[4]\n",
        "dd = new_dataC['OFNS_DESC'] == freq_crimes[5]\n",
        "po = new_dataC['OFNS_DESC'] == freq_crimes[6]\n",
        "fa = new_dataC['OFNS_DESC'] == freq_crimes[7]\n",
        "rob = new_dataC['OFNS_DESC'] == freq_crimes[8]\n",
        "burg = new_dataC['OFNS_DESC'] == freq_crimes[9]\n",
        "final_dataC = new_dataC.where(pl | h2 | a3 | cm | gl | dd | po | fa | rob | burg).dropna()"
      ],
      "execution_count": 0,
      "outputs": []
    },
    {
      "cell_type": "code",
      "metadata": {
        "id": "_SGUgt5hwDH0",
        "colab_type": "code",
        "colab": {}
      },
      "source": [
        "final_dataC['OFNS_DESC'].unique()\n",
        "final_dataC.to_csv(\"nycrimemap.csv\", index = False)"
      ],
      "execution_count": 0,
      "outputs": []
    },
    {
      "cell_type": "markdown",
      "metadata": {
        "id": "fvYZqdLCwDH5",
        "colab_type": "text"
      },
      "source": [
        "### The code for plotting with exported csv is continued in crimemap.R"
      ]
    },
    {
      "cell_type": "markdown",
      "metadata": {
        "id": "TydcgKM0wDH5",
        "colab_type": "text"
      },
      "source": [
        "## Question D\n",
        "### Were there any rises of specific crimes on certain holidays?"
      ]
    },
    {
      "cell_type": "code",
      "metadata": {
        "id": "xfeUPgtXwDH6",
        "colab_type": "code",
        "colab": {}
      },
      "source": [
        "data = pd.read_csv('clean_nycrime.csv')"
      ],
      "execution_count": 0,
      "outputs": []
    },
    {
      "cell_type": "code",
      "metadata": {
        "id": "AP_oQL9LwDH9",
        "colab_type": "code",
        "colab": {}
      },
      "source": [
        "from datetime import datetime, timedelta"
      ],
      "execution_count": 0,
      "outputs": []
    },
    {
      "cell_type": "code",
      "metadata": {
        "id": "UfqmLxpVwDIA",
        "colab_type": "code",
        "colab": {}
      },
      "source": [
        "PETIT_LARCENY_KEY = 341\n",
        "HARASSMENT_2_KEY = 578\n",
        "ASSAULT_3_KEY = 344\n",
        "CRIMINAL_MISCHIEF_KEY = 351\n",
        "GRAND_LARCENY_KEY = 109"
      ],
      "execution_count": 0,
      "outputs": []
    },
    {
      "cell_type": "code",
      "metadata": {
        "id": "kJdN4S_UwDIC",
        "colab_type": "code",
        "colab": {}
      },
      "source": [
        "data = pd.read_csv('clean_nycrime.csv', low_memory=False)\n",
        "data.head()"
      ],
      "execution_count": 0,
      "outputs": []
    },
    {
      "cell_type": "code",
      "metadata": {
        "id": "HNdGxr00wxJf",
        "colab_type": "code",
        "colab": {}
      },
      "source": [
        "data.groupby('OFNS_DESC').count().sort_values(by=['CMPLNT_NUM'], ascending=False).head(5)"
      ],
      "execution_count": 0,
      "outputs": []
    },
    {
      "cell_type": "code",
      "metadata": {
        "id": "rtY719DbwDIG",
        "colab_type": "code",
        "colab": {}
      },
      "source": [
        "def normalize_dates(x):\n",
        "    y = datetime.strptime(x, '%Y-%m-%d %H:%M:%S')\n",
        "    new_date = y.replace(year=2016, hour=12, minute=0, second=0)\n",
        "    return new_date\n",
        "\n",
        "# Filter data around holiday date += 10 days across all years\n",
        "data['normalized_date'] = data[~data['CMPLNT_FR_DTM'].isna()]['CMPLNT_FR_DTM'].apply(normalize_dates)"
      ],
      "execution_count": 0,
      "outputs": []
    },
    {
      "cell_type": "code",
      "metadata": {
        "id": "cGKs35LNwDII",
        "colab_type": "code",
        "colab": {}
      },
      "source": [
        "ten_days = pd.Timedelta(days=10)\n",
        "christmas_16  = pd.Timestamp(2016, 12, 25)\n",
        "christmas_15 = pd.Timestamp(2015, 12, 25)\n",
        "\n",
        "july_fourth = pd.Timestamp(2016, 8, 4)\n",
        "\n",
        "# around_christmas = data[(data['normalized_date'] < (christmas + ten_days)) & (data['normalized_date'] < (christmas - ten_days))]\n",
        "data['is_near_christmas'] = data[~data['normalized_date'].isna()]['normalized_date'].apply(lambda x: abs(x - christmas_16) <= ten_days or abs(x - christmas_15) <= ten_days)\n"
      ],
      "execution_count": 0,
      "outputs": []
    },
    {
      "cell_type": "code",
      "metadata": {
        "id": "7uuKukgxwDIN",
        "colab_type": "code",
        "colab": {}
      },
      "source": [
        "new_years_16 = pd.Timestamp(2016, 1, 1)\n",
        "new_years_17 = pd.Timestamp(2017, 1, 1)\n",
        "\n",
        "data['is_near_newyears'] = data[~data['normalized_date'].isna()]['normalized_date'].apply(lambda x: abs(x - new_years_16) <= ten_days or abs(x - new_years_17) <= ten_days)"
      ],
      "execution_count": 0,
      "outputs": []
    },
    {
      "cell_type": "code",
      "metadata": {
        "id": "yNby-wZ-wDIP",
        "colab_type": "code",
        "colab": {}
      },
      "source": [
        "july_fourth = pd.Timestamp(2016, 7, 4)\n",
        "\n",
        "data['is_near_july_fourth'] = data[~data['normalized_date'].isna()]['normalized_date'].apply(lambda x: abs(x - july_fourth) <= ten_days)"
      ],
      "execution_count": 0,
      "outputs": []
    },
    {
      "cell_type": "code",
      "metadata": {
        "id": "EJhzRg29wDIW",
        "colab_type": "code",
        "colab": {}
      },
      "source": [
        "thanksgiving = pd.Timestamp(2016, 11, 28)\n",
        "\n",
        "data['is_near_thanksgiving'] = data[~data['normalized_date'].isna()]['normalized_date'].apply(lambda x: abs(x - thanksgiving) <= ten_days)"
      ],
      "execution_count": 0,
      "outputs": []
    },
    {
      "cell_type": "code",
      "metadata": {
        "id": "wSlcdCX4wDIY",
        "colab_type": "code",
        "colab": {}
      },
      "source": [
        "# Petit Larceny, Harrassment, Assault, Criminal Mischief, Grand Larceny around Christmas\n",
        "\n",
        "data[(data['is_near_christmas'] == True)].groupby('normalized_date').head(5)\n",
        "\n",
        "\n",
        "petit_larceny = data[(data['KY_CD'] == PETIT_LARCENY_KEY) & (data['is_near_christmas'] == True)].groupby('normalized_date').nunique()\n",
        "harassment = data[(data['KY_CD'] == HARASSMENT_2_KEY) & (data['is_near_christmas'] == True)].groupby('normalized_date').nunique()\n",
        "assault = data[(data['KY_CD'] == ASSAULT_3_KEY) & (data['is_near_christmas'] == True)].groupby('normalized_date').nunique()\n",
        "criminal_mischief = data[(data['KY_CD'] == CRIMINAL_MISCHIEF_KEY) & (data['is_near_christmas'] == True)].groupby('normalized_date').nunique()\n",
        "grand_larceny = data[(data['KY_CD'] == GRAND_LARCENY_KEY) & (data['is_near_christmas'] == True)].groupby('normalized_date').nunique()\n",
        "\n",
        "# plt.plot('normalized_date', 'y', data=petit_larceny)\n",
        "as_list = petit_larceny.index.values.tolist()\n",
        "as_list[0] += 31574926 * 1000000000 + 38926000000000\n",
        "as_list[1] += 31574926 * 1000000000 + 38926000000000\n",
        "as_list[2] += 31574926 * 1000000000 + 38926000000000\n",
        "\n",
        "def epoch_to_dt(dt):\n",
        "    d = dt/1000000000\n",
        "    dt_obj = datetime.fromtimestamp(d)\n",
        "    return dt_obj\n",
        "\n",
        "def dt_obj_to_date_string(dt_obj):\n",
        "    return \"{}-{}\".format(dt_obj.month, dt_obj.day)\n",
        "\n",
        "as_list2 = [epoch_to_dt(x) for x in as_list]\n",
        "\n",
        "petit_larceny.index = as_list2\n",
        "harassment.index = as_list2\n",
        "assault.index = as_list2\n",
        "criminal_mischief.index = as_list2\n",
        "grand_larceny.index = as_list2\n",
        "\n",
        "\n",
        "petit_larceny = petit_larceny.sort_index()\n",
        "harassment = harassment.sort_index()\n",
        "assault = assault.sort_index()\n",
        "criminal_mischief = criminal_mischief.sort_index()\n",
        "grand_larceny = grand_larceny.sort_index()\n",
        "\n",
        "petit_larceny.index = [dt_obj_to_date_string(x) for x in petit_larceny.index]\n",
        "harassment.index = [dt_obj_to_date_string(x) for x in harassment.index]\n",
        "assault.index = [dt_obj_to_date_string(x) for x in assault.index]\n",
        "criminal_mischief.index = [dt_obj_to_date_string(x) for x in criminal_mischief.index]\n",
        "grand_larceny.index = [dt_obj_to_date_string(x) for x in grand_larceny.index]"
      ],
      "execution_count": 0,
      "outputs": []
    },
    {
      "cell_type": "code",
      "metadata": {
        "id": "3K12cNJewDIa",
        "colab_type": "code",
        "colab": {}
      },
      "source": [
        "plt.plot(petit_larceny.index.values, petit_larceny['CMPLNT_NUM'], label='Petit Larceny')\n",
        "plt.plot(harassment.index.values, harassment['CMPLNT_NUM'], label='Harassment')\n",
        "plt.plot(assault.index.values, assault['CMPLNT_NUM'], label='Assault')\n",
        "plt.plot(criminal_mischief.index.values, criminal_mischief['CMPLNT_NUM'], label='Criminal Mischief')\n",
        "plt.plot(grand_larceny.index.values, grand_larceny['CMPLNT_NUM'], label='Grand Larceny')\n",
        "\n",
        "plt.xticks(rotation=45)\n",
        "plt.legend()\n",
        "plt.xlabel('Dates of Crime Committed')\n",
        "plt.ylabel('Number of Instances of Crime Reported')\n",
        "plt.title('Various Crimes Committed Around Christmas and New Years Across All Years')\n",
        "\n",
        "petit_larceny.index.values"
      ],
      "execution_count": 0,
      "outputs": []
    },
    {
      "cell_type": "code",
      "metadata": {
        "id": "ahhEcwdkwDId",
        "colab_type": "code",
        "colab": {}
      },
      "source": [
        "# Petit Larceny, Harrassment, Assault, Criminal Mischief, Grand Larceny around Independence Day\n",
        "data[(data['is_near_july_fourth'] == True)].groupby('normalized_date').head(5)\n",
        "\n",
        "\n",
        "petit_larceny = data[(data['KY_CD'] == PETIT_LARCENY_KEY) & (data['is_near_july_fourth'] == True)].groupby('normalized_date').nunique()\n",
        "harassment = data[(data['KY_CD'] == HARASSMENT_2_KEY) & (data['is_near_july_fourth'] == True)].groupby('normalized_date').nunique()\n",
        "assault = data[(data['KY_CD'] == ASSAULT_3_KEY) & (data['is_near_july_fourth'] == True)].groupby('normalized_date').nunique()\n",
        "criminal_mischief = data[(data['KY_CD'] == CRIMINAL_MISCHIEF_KEY) & (data['is_near_july_fourth'] == True)].groupby('normalized_date').nunique()\n",
        "grand_larceny = data[(data['KY_CD'] == GRAND_LARCENY_KEY) & (data['is_near_july_fourth'] == True)].groupby('normalized_date').nunique()\n",
        "\n",
        "petit_larceny.index = [dt_obj_to_date_string(x) for x in petit_larceny.index]\n",
        "harassment.index = [dt_obj_to_date_string(x) for x in harassment.index]\n",
        "assault.index = [dt_obj_to_date_string(x) for x in assault.index]\n",
        "criminal_mischief.index = [dt_obj_to_date_string(x) for x in criminal_mischief.index]\n",
        "grand_larceny.index = [dt_obj_to_date_string(x) for x in grand_larceny.index]"
      ],
      "execution_count": 0,
      "outputs": []
    },
    {
      "cell_type": "code",
      "metadata": {
        "id": "oQgkC--WwDIf",
        "colab_type": "code",
        "colab": {}
      },
      "source": [
        "plt.plot(petit_larceny.index.values, petit_larceny['CMPLNT_NUM'], label='Petit Larceny')\n",
        "plt.plot(harassment.index.values, harassment['CMPLNT_NUM'], label='Harassment')\n",
        "plt.plot(assault.index.values, assault['CMPLNT_NUM'], label='Assault')\n",
        "plt.plot(criminal_mischief.index.values, criminal_mischief['CMPLNT_NUM'], label='Criminal Mischief')\n",
        "plt.plot(grand_larceny.index.values, grand_larceny['CMPLNT_NUM'], label='Grand Larceny')\n",
        "\n",
        "plt.xticks(rotation=45)\n",
        "plt.legend()\n",
        "plt.xlabel('Dates of Crime Committed')\n",
        "plt.ylabel('Number of Instances of Crime Reported')\n",
        "plt.title('Various Crimes Committed Around Independence Day Across All Years')"
      ],
      "execution_count": 0,
      "outputs": []
    },
    {
      "cell_type": "code",
      "metadata": {
        "id": "ZSpIMGtJwDIi",
        "colab_type": "code",
        "colab": {}
      },
      "source": [
        "# Petit Larceny, Harrassment, Assault, Criminal Mischief, Grand Larceny around Thanksgiving\n",
        "\n",
        "data[(data['is_near_thanksgiving'] == True)].groupby('normalized_date').head(5)\n",
        "\n",
        "\n",
        "petit_larceny = data[(data['KY_CD'] == PETIT_LARCENY_KEY) & (data['is_near_thanksgiving'] == True)].groupby('normalized_date').nunique()\n",
        "harassment = data[(data['KY_CD'] == HARASSMENT_2_KEY) & (data['is_near_thanksgiving'] == True)].groupby('normalized_date').nunique()\n",
        "assault = data[(data['KY_CD'] == ASSAULT_3_KEY) & (data['is_near_thanksgiving'] == True)].groupby('normalized_date').nunique()\n",
        "criminal_mischief = data[(data['KY_CD'] == CRIMINAL_MISCHIEF_KEY) & (data['is_near_thanksgiving'] == True)].groupby('normalized_date').nunique()\n",
        "grand_larceny = data[(data['KY_CD'] == GRAND_LARCENY_KEY) & (data['is_near_thanksgiving'] == True)].groupby('normalized_date').nunique()\n",
        "\n",
        "petit_larceny.index = [dt_obj_to_date_string(x) for x in petit_larceny.index]\n",
        "harassment.index = [dt_obj_to_date_string(x) for x in harassment.index]\n",
        "assault.index = [dt_obj_to_date_string(x) for x in assault.index]\n",
        "criminal_mischief.index = [dt_obj_to_date_string(x) for x in criminal_mischief.index]\n",
        "grand_larceny.index = [dt_obj_to_date_string(x) for x in grand_larceny.index]"
      ],
      "execution_count": 0,
      "outputs": []
    },
    {
      "cell_type": "code",
      "metadata": {
        "id": "uoLy4r7wwDIj",
        "colab_type": "code",
        "colab": {}
      },
      "source": [
        "plt.plot(petit_larceny.index.values, petit_larceny['CMPLNT_NUM'], label='Petit Larceny')\n",
        "plt.plot(harassment.index.values, harassment['CMPLNT_NUM'], label='Harassment')\n",
        "plt.plot(assault.index.values, assault['CMPLNT_NUM'], label='Assault')\n",
        "plt.plot(criminal_mischief.index.values, criminal_mischief['CMPLNT_NUM'], label='Criminal Mischief')\n",
        "plt.plot(grand_larceny.index.values, grand_larceny['CMPLNT_NUM'], label='Grand Larceny')\n",
        "\n",
        "plt.xticks(rotation=45)\n",
        "plt.legend(loc='upper left')\n",
        "plt.xlabel('Dates of Crime Committed')\n",
        "plt.ylabel('Number of Instances of Crime Reported')\n",
        "plt.title('Various Crimes Committed Around Thanksgiving Across All Years')"
      ],
      "execution_count": 0,
      "outputs": []
    },
    {
      "cell_type": "markdown",
      "metadata": {
        "id": "lQ2z1oOtwDIl",
        "colab_type": "text"
      },
      "source": [
        "## Question E\n",
        "### Are there any specific date ranges or time ranges where crime is more prevalent in one borough than the other?"
      ]
    },
    {
      "cell_type": "code",
      "metadata": {
        "id": "uTfGEFZiwDIm",
        "colab_type": "code",
        "colab": {}
      },
      "source": [
        "dataE=pd.read_csv('clean_nycrime.csv')\n",
        "dataE.head()"
      ],
      "execution_count": 0,
      "outputs": []
    },
    {
      "cell_type": "code",
      "metadata": {
        "id": "62rKaPt8wDIo",
        "colab_type": "code",
        "colab": {}
      },
      "source": [
        "#filter columns down to the ones we need for this question\n",
        "boroughs = dataE[['BORO_NM','OFNS_DESC','CMPLNT_FR_DTM','CMPLNT_TO_DTM']]\n",
        "boroughs.head()"
      ],
      "execution_count": 0,
      "outputs": []
    },
    {
      "cell_type": "code",
      "metadata": {
        "id": "p5pK4vK0wDIs",
        "colab_type": "code",
        "colab": {}
      },
      "source": [
        "boroughs_group = boroughs.groupby('BORO_NM')\n",
        "boroughs_group.size()"
      ],
      "execution_count": 0,
      "outputs": []
    },
    {
      "cell_type": "code",
      "metadata": {
        "id": "BDrCpNhfwDIw",
        "colab_type": "code",
        "colab": {}
      },
      "source": [
        "bgroup2 = boroughs.groupby(['BORO_NM', 'CMPLNT_FR_DTM']).size()\n",
        "bgroup2 = bgroup2.unstack()\n",
        "plt.plot(bgroup2)"
      ],
      "execution_count": 0,
      "outputs": []
    },
    {
      "cell_type": "markdown",
      "metadata": {
        "id": "54u5rJeRwDIy",
        "colab_type": "text"
      },
      "source": [
        "## Question F\n",
        "### What crimes are easiest to get away with?"
      ]
    },
    {
      "cell_type": "code",
      "metadata": {
        "id": "DJBuGZHXwDIz",
        "colab_type": "code",
        "colab": {}
      },
      "source": [
        "dataF = pd.read_csv('clean_nycrime.csv')"
      ],
      "execution_count": 0,
      "outputs": []
    },
    {
      "cell_type": "code",
      "metadata": {
        "id": "-KmSl7ChwDI2",
        "colab_type": "code",
        "colab": {}
      },
      "source": [
        "dataF['SUSP_AGE_GROUP'].unique()"
      ],
      "execution_count": 0,
      "outputs": []
    },
    {
      "cell_type": "code",
      "metadata": {
        "id": "EWr9S3omwDI4",
        "colab_type": "code",
        "colab": {}
      },
      "source": [
        "age_groups = ['<18', '18-24', '25-44', '45-64', '65+']\n",
        "significant_crimes = ['PETIT LARCENY', 'HARRASSMENT 2', 'GRAND LARCENY', 'CRIMINAL MISCHIEF & RELATED OF', 'ASSAULT 3 & RELATED OFFENSES', 'ROBBERY', 'OFF. AGNST PUB ORD SENSBLTY &', 'FELONY ASSAULT', 'BURGLARY']\n",
        "pd.set_option('display.max_row', 100)\n",
        "\n",
        "\n",
        "\n",
        "has_suspect_info = dataF[(dataF['SUSP_AGE_GROUP'].isin(age_groups)) & (dataF['OFNS_DESC'].isin(significant_crimes))]\n",
        "has_no_suspect_info = dataF[(~dataF['SUSP_AGE_GROUP'].isin(age_groups)) & (dataF['OFNS_DESC'].isin(significant_crimes))]\n",
        "x = has_no_suspect_info.groupby('OFNS_DESC')[['SUSP_AGE_GROUP']].count()\n",
        "y = has_suspect_info.groupby('OFNS_DESC')[['SUSP_AGE_GROUP']].count()\n",
        "\n",
        "x.combine(y, lambda has, has_not: (has_not/(has+has_not))*100).sort_values(by='SUSP_AGE_GROUP', ascending=False)"
      ],
      "execution_count": 0,
      "outputs": []
    },
    {
      "cell_type": "code",
      "metadata": {
        "id": "ScuFdfnzwDI7",
        "colab_type": "code",
        "colab": {}
      },
      "source": [
        "x.sort_values(by='SUSP_AGE_GROUP', ascending=False)"
      ],
      "execution_count": 0,
      "outputs": []
    },
    {
      "cell_type": "code",
      "metadata": {
        "id": "l88Fydm9wDI9",
        "colab_type": "code",
        "colab": {}
      },
      "source": [
        "completed = dataF[(dataF['CRM_ATPT_CPTD_CD'] == 'COMPLETED') & (dataF['OFNS_DESC'].isin(significant_crimes))]\n",
        "attempted = dataF[(dataF['CRM_ATPT_CPTD_CD'] == 'ATTEMPTED') & (dataF['OFNS_DESC'].isin(significant_crimes))]\n",
        "# nan_crime = data[data['CRM_ATPT_CPTD_CD'].isna()]\n",
        "\n",
        "x = completed.groupby('OFNS_DESC')[['CRM_ATPT_CPTD_CD']].count()\n",
        "y = attempted.groupby('OFNS_DESC')[['CRM_ATPT_CPTD_CD']].count()\n",
        "\n",
        "x.combine(y, lambda complete, attempted: (complete/(complete+attempted))*100).sort_values(by='CRM_ATPT_CPTD_CD')"
      ],
      "execution_count": 0,
      "outputs": []
    },
    {
      "cell_type": "markdown",
      "metadata": {
        "id": "yLv6gsRIwDI_",
        "colab_type": "text"
      },
      "source": [
        "## Question G\n",
        "### What crime will be most likely to be committed on a given day in the future?"
      ]
    },
    {
      "cell_type": "code",
      "metadata": {
        "id": "SfpMBTZ8wDJA",
        "colab_type": "code",
        "colab": {}
      },
      "source": [
        "ds = pd.read_csv('clean_nycrime.csv')\n",
        "good_entries = ds[['CMPLNT_TO_DTM', 'CMPLNT_FR_DTM']].notna().any(axis='columns')"
      ],
      "execution_count": 0,
      "outputs": []
    },
    {
      "cell_type": "code",
      "metadata": {
        "id": "nDkFeXdVwDJC",
        "colab_type": "code",
        "colab": {}
      },
      "source": [
        "start_dtm = datetime(year = 2006, month = 1, day = 1, hour = 0, minute = 0)\n",
        "td_group = timedelta(days = 1)"
      ],
      "execution_count": 0,
      "outputs": []
    },
    {
      "cell_type": "code",
      "metadata": {
        "id": "pcOc1axEwDJU",
        "colab_type": "code",
        "colab": {}
      },
      "source": [
        "new_ds = ds.loc[good_entries]\n",
        "new_ds.loc[:, 'CMPLNT_DTM'] = new_ds.loc[:, 'CMPLNT_FR_DTM']\n",
        "new_ds.loc[:, 'CMPLNT_DTM'] = new_ds.loc[:, 'CMPLNT_DTM'].mask(new_ds.loc[:, 'CMPLNT_DTM'].isna(), new_ds.loc[:, 'CMPLNT_TO_DTM'])\n",
        "#new_ds.loc[:, 'CMPLNT_DTM'].isna().value_counts()\n",
        "new_ds.loc[:, 'CMPLNT_TD'] = new_ds.loc[:, 'CMPLNT_DTM'].apply(lambda x: int((datetime.fromisoformat(x) - start_dtm) / td_group))"
      ],
      "execution_count": 0,
      "outputs": []
    },
    {
      "cell_type": "code",
      "metadata": {
        "id": "sOoQ2eDvwDJW",
        "colab_type": "code",
        "colab": {}
      },
      "source": [
        "cleanish_ds = new_ds[new_ds['CMPLNT_TD'] >= 0]\n",
        "clean_ds = cleanish_ds[cleanish_ds['CMPLNT_TD'] <= 4150]"
      ],
      "execution_count": 0,
      "outputs": []
    },
    {
      "cell_type": "code",
      "metadata": {
        "id": "ZUSapIcmwDJY",
        "colab_type": "code",
        "colab": {}
      },
      "source": [
        "desired_crime_codes = clean_ds['KY_CD'].value_counts().head(10).keys().values\n",
        "refined_ds = clean_ds[clean_ds['KY_CD'].isin(desired_crime_codes)][['KY_CD', 'CMPLNT_TD']]\n",
        "df = pd.concat([refined_ds, pd.get_dummies(refined_ds['KY_CD'], prefix='KY_CD')], axis=1).drop(['KY_CD'], axis=1)\n",
        "print(desired_crime_codes)"
      ],
      "execution_count": 0,
      "outputs": []
    },
    {
      "cell_type": "code",
      "metadata": {
        "id": "VcZeq12KwDJa",
        "colab_type": "code",
        "colab": {}
      },
      "source": [
        "agg_df = df.groupby(['CMPLNT_TD']).sum()\n",
        "crime_dict = {'KY_CD_351': 'CRIMINAL MISCHIEF & RELATED OF', 'KY_CD_341': 'PETIT LARCENY', 'KY_CD_578': 'HARRASSMENT 2', 'KY_CD_344': 'ASSAULT 3 & RELATED OFFENSES', 'KY_CD_109': 'GRAND LARCENY', 'KY_CD_361': 'OFF. AGNST PUB ORD SENSBLTY &', 'KY_CD_235': 'DANGEROUS DRUGS', 'KY_CD_105': 'ROBBERY', 'KY_CD_106': 'FELONY ASSAULT', 'KY_CD_107': 'BURGLARY'}\n",
        "agg_df.rename(columns=crime_dict, inplace=True)\n",
        "agg_df.head()"
      ],
      "execution_count": 0,
      "outputs": []
    },
    {
      "cell_type": "code",
      "metadata": {
        "id": "brZ2WEHywDJc",
        "colab_type": "code",
        "colab": {}
      },
      "source": [
        "targets = agg_df.reset_index().drop(['CMPLNT_TD'], axis=1)\n",
        "predictors = agg_df.reset_index()['CMPLNT_TD']\n",
        "train_preds, test_preds, train_targets, test_targets = train_test_split(predictors, targets, test_size=0.1, random_state=7, shuffle=True)"
      ],
      "execution_count": 0,
      "outputs": []
    },
    {
      "cell_type": "code",
      "metadata": {
        "id": "iManz-7AwDJe",
        "colab_type": "code",
        "colab": {}
      },
      "source": [
        "print('Train_Preds Shape: ', train_preds.shape)\n",
        "print('Train_Targets Shape: ', train_targets.shape)\n",
        "print('Test_Preds Shape: ', test_preds.shape)\n",
        "print('Test_Targets Shape: ', test_targets.shape)\n",
        "\n",
        "train_preds = train_preds.to_numpy().reshape(-1, 1)\n",
        "test_preds = test_preds.to_numpy().reshape(-1, 1)"
      ],
      "execution_count": 0,
      "outputs": []
    },
    {
      "cell_type": "code",
      "metadata": {
        "id": "DdwU0AcuwDJg",
        "colab_type": "code",
        "colab": {}
      },
      "source": [
        "mlp_params = [{'hidden_layer_sizes': [[100], [200], [50, 100], [20, 100, 20]], 'batch_size': [1, 8, 32]}]\n",
        "mlp_gs = GridSearchCV(MLPRegressor(), mlp_params, n_jobs=-1, verbose=1)\n",
        "mlp_gs.fit(train_preds, train_targets)"
      ],
      "execution_count": 0,
      "outputs": []
    },
    {
      "cell_type": "code",
      "metadata": {
        "id": "sxFmeAFPwDJm",
        "colab_type": "code",
        "colab": {}
      },
      "source": [
        "print(mlp_gs.best_params_)\n",
        "mlp_gs_predictions = mlp_gs.predict(test_preds)\n",
        "mlp_gs_loss_mse = mean_squared_error(mlp_gs_predictions, test_targets)\n",
        "mlp_gs_loss_mae = mean_absolute_error(mlp_gs_predictions, test_targets)\n",
        "print(mlp_gs_loss_mse)\n",
        "print(mlp_gs_loss_mae)"
      ],
      "execution_count": 0,
      "outputs": []
    },
    {
      "cell_type": "code",
      "metadata": {
        "id": "govzJexKwDJo",
        "colab_type": "code",
        "colab": {}
      },
      "source": [
        "fig, axs = plt.subplots(2)\n",
        "plt.subplots_adjust(hspace = 0.7, right = 0.7)\n",
        "fig.set_size_inches(10, 5, forward=True)\n",
        "fig.suptitle('Multilayer Perceptron Regressor Performance')\n",
        "axs[0].plot(test_preds, test_targets)\n",
        "axs[0].set_title('Actual Values')\n",
        "axs[0].set(xlabel='Days Since 01-01-06T00:00:00', ylabel='Number of Crime Reports')\n",
        "axs[1].plot(test_preds, mlp_gs_predictions)\n",
        "axs[1].set_title('Predicted Values')\n",
        "axs[1].set(xlabel='Days Since 01-01-06T00:00:00', ylabel='Number of Crime Reports')\n",
        "fig.legend(test_targets, loc = 'right')"
      ],
      "execution_count": 0,
      "outputs": []
    },
    {
      "cell_type": "code",
      "metadata": {
        "id": "wkwoai9dwDJp",
        "colab_type": "code",
        "colab": {}
      },
      "source": [
        "rf = RandomForestRegressor(n_estimators=3000, random_state=7, n_jobs=-1, verbose=1)\n",
        "rf.fit(train_preds, train_targets)"
      ],
      "execution_count": 0,
      "outputs": []
    },
    {
      "cell_type": "code",
      "metadata": {
        "id": "NRYy4wA3wDJs",
        "colab_type": "code",
        "colab": {}
      },
      "source": [
        "rf_predictions = rf.predict(test_preds)\n",
        "rf_loss_mse = mean_squared_error(rf_predictions, test_targets)\n",
        "rf_loss_mae = mean_absolute_error(rf_predictions, test_targets)\n",
        "print(rf_loss_mse)\n",
        "print(rf_loss_mae)"
      ],
      "execution_count": 0,
      "outputs": []
    },
    {
      "cell_type": "code",
      "metadata": {
        "id": "fyN-3YuswDJu",
        "colab_type": "code",
        "colab": {}
      },
      "source": [
        "fig, axs = plt.subplots(2)\n",
        "plt.subplots_adjust(hspace = 0.7, right = 0.7)\n",
        "fig.set_size_inches(10, 5, forward=True)\n",
        "fig.suptitle('Random Forest Regressor Performance')\n",
        "axs[0].plot(test_preds, test_targets)\n",
        "axs[0].set_title('Actual Values')\n",
        "axs[0].set(xlabel='Days Since 01-01-06T00:00:00', ylabel='Number of Crime Reports')\n",
        "axs[1].plot(test_preds, rf_predictions)\n",
        "axs[1].set_title('Predicted Values')\n",
        "axs[1].set(xlabel='Days Since 01-01-06T00:00:00', ylabel='Number of Crime Reports')\n",
        "fig.legend(test_targets, loc = 'right')"
      ],
      "execution_count": 0,
      "outputs": []
    }
  ]
}